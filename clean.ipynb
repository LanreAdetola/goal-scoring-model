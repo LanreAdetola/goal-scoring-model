{
 "cells": [
  {
   "cell_type": "code",
   "execution_count": 1,
   "metadata": {},
   "outputs": [
    {
     "name": "stdout",
     "output_type": "stream",
     "text": [
      "CSV ready for Azure AutoML.\n"
     ]
    }
   ],
   "source": [
    "import pandas as pd\n",
    "\n",
    "# Reload original CSV\n",
    "data = pd.read_csv('Tolu_2024-25.csv')\n",
    "\n",
    "# Convert Date to datetime format and extract features\n",
    "data['Date'] = pd.to_datetime(data['Date'], format='%d-%b-%y')\n",
    "data['Match_Day'] = data['Date'].dt.day\n",
    "data['Match_Month'] = data['Date'].dt.month\n",
    "data['Match_Weekday'] = data['Date'].dt.weekday\n",
    "\n",
    "# Drop original Date and Result columns\n",
    "data.drop(['Date', 'Result'], axis=1, inplace=True)\n",
    "\n",
    "# One-hot encode categorical features\n",
    "data_encoded = pd.get_dummies(data, columns=['Opponent', 'Venue'], drop_first=True)\n",
    "\n",
    "# Replace special characters/spaces in column names\n",
    "data_encoded.columns = data_encoded.columns.str.replace('[^A-Za-z0-9]+', '_', regex=True)\n",
    "\n",
    "# Save in UTF-8-sig encoding (Azure recommended)\n",
    "data_encoded.to_csv(\"prepared_data_for_automl.csv\", index=False, encoding='utf-8-sig')\n",
    "\n",
    "print(\"CSV ready for Azure AutoML.\")\n"
   ]
  }
 ],
 "metadata": {
  "kernelspec": {
   "display_name": "Python 3",
   "language": "python",
   "name": "python3"
  },
  "language_info": {
   "codemirror_mode": {
    "name": "ipython",
    "version": 3
   },
   "file_extension": ".py",
   "mimetype": "text/x-python",
   "name": "python",
   "nbconvert_exporter": "python",
   "pygments_lexer": "ipython3",
   "version": "3.9.6"
  }
 },
 "nbformat": 4,
 "nbformat_minor": 2
}
